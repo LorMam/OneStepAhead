{
 "cells": [
  {
   "cell_type": "markdown",
   "metadata": {},
   "source": [
    "# Regression Modelling\n",
    "\n",
    "Performa a regression analysis to look for correlation between Human Development data and Covid-19 growth rate\n",
    "\n",
    "Useful to get started:\n",
    "https://realpython.com/linear-regression-in-python/"
   ]
  },
  {
   "cell_type": "code",
   "execution_count": 93,
   "metadata": {},
   "outputs": [],
   "source": [
    "import numpy as np\n",
    "import matplotlib.pyplot as plt\n",
    "import matplotlib.colors as colors\n",
    "\n",
    "import csv\n",
    "from scipy.interpolate import interp1d\n",
    "from scipy.optimize import curve_fit\n",
    "\n",
    "import pandas \n",
    "from sklearn.linear_model import LinearRegression\n",
    "from sklearn.preprocessing import PolynomialFeatures\n",
    "#import statsmodels.api as sm\n",
    "\n",
    "%matplotlib inline"
   ]
  },
  {
   "cell_type": "code",
   "execution_count": 121,
   "metadata": {},
   "outputs": [],
   "source": [
    "#Import data - independent variables\n",
    "\n",
    "df_hd = pandas.read_csv(\"OneStepAhead/DataProcessing/humanDevelopmentDataCompact.csv\")\n",
    "\n",
    "\n",
    "clist = []\n",
    "x = []\n",
    "\n",
    "#Choose indices of interest based on columns. \n",
    "for i,row in df_hd.iterrows():\n",
    "    if row[\"Country\"] == \"Burkina Faso\":\n",
    "        continue\n",
    "    cvals = []\n",
    "    for variable in df_hd.columns:\n",
    "        \n",
    "        if variable == \"Country\":\n",
    "            clist.append(row[\"Country\"])\n",
    "        else:\n",
    "            cvals.append(row[variable])\n",
    "        \n",
    "    x.append(cvals)\n",
    "    \n",
    "\n",
    "x = np.array(x)\n"
   ]
  },
  {
   "cell_type": "code",
   "execution_count": 122,
   "metadata": {},
   "outputs": [],
   "source": [
    "#Import data - growth rates \n",
    "\n",
    "df_gr = pandas.read_csv(\"GrowthRates.csv\")\n",
    "\n",
    "y = np.zeros(len(clist))\n",
    "\n",
    "for i,row in df_gr.iterrows():\n",
    "    if row[\"Country\"] == \"Burkina Faso\":\n",
    "        continue\n",
    "    cind = clist.index(row[\"Country\"])\n",
    "    \n",
    "    y[cind] = row[\"GrowthRate1\"]\n",
    "    \n",
    "y = np.array(y)"
   ]
  },
  {
   "cell_type": "code",
   "execution_count": 123,
   "metadata": {},
   "outputs": [],
   "source": [
    "x_ = PolynomialFeatures(degree=2, include_bias=False).fit_transform(x)"
   ]
  },
  {
   "cell_type": "code",
   "execution_count": 124,
   "metadata": {},
   "outputs": [],
   "source": [
    "model = LinearRegression().fit(x_, y)"
   ]
  },
  {
   "cell_type": "code",
   "execution_count": 125,
   "metadata": {},
   "outputs": [
    {
     "name": "stdout",
     "output_type": "stream",
     "text": [
      "1.0\n"
     ]
    }
   ],
   "source": [
    "r_sq = model.score(x_, y)\n",
    "print(r_sq) #R_sq = 1 implies overfitting"
   ]
  },
  {
   "cell_type": "code",
   "execution_count": 126,
   "metadata": {},
   "outputs": [
    {
     "data": {
      "text/plain": [
       "54"
      ]
     },
     "execution_count": 126,
     "metadata": {},
     "output_type": "execute_result"
    }
   ],
   "source": [
    "coeffs = model.coef_\n",
    "len(coeffs)#want this to be low"
   ]
  },
  {
   "cell_type": "code",
   "execution_count": 127,
   "metadata": {},
   "outputs": [
    {
     "name": "stdout",
     "output_type": "stream",
     "text": [
      "[0.11434  0.038206 0.13066  0.098858 0.12646  0.089606 0.10938  0.10808\n",
      " 0.26786  0.0597   0.10149  0.13343  0.1001   0.093516]\n"
     ]
    }
   ],
   "source": [
    "#print(bfvals)\n",
    "ypred = model.predict(x_)\n",
    "print(ypred)"
   ]
  },
  {
   "cell_type": "code",
   "execution_count": null,
   "metadata": {},
   "outputs": [],
   "source": []
  },
  {
   "cell_type": "code",
   "execution_count": null,
   "metadata": {
    "collapsed": true
   },
   "outputs": [],
   "source": []
  }
 ],
 "metadata": {
  "kernelspec": {
   "display_name": "Python 3",
   "language": "python",
   "name": "python3"
  },
  "language_info": {
   "codemirror_mode": {
    "name": "ipython",
    "version": 3
   },
   "file_extension": ".py",
   "mimetype": "text/x-python",
   "name": "python",
   "nbconvert_exporter": "python",
   "pygments_lexer": "ipython3",
   "version": "3.6.3"
  }
 },
 "nbformat": 4,
 "nbformat_minor": 2
}

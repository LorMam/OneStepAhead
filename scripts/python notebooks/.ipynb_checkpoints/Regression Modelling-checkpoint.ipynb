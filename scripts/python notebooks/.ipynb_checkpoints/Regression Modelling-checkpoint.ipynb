{
 "cells": [
  {
   "cell_type": "markdown",
   "metadata": {},
   "source": [
    "# Regression Modelling\n",
    "\n",
    "Performa a regression analysis to look for correlation between Human Development data and Covid-19 growth rate\n",
    "\n",
    "Useful to get started:\n",
    "https://realpython.com/linear-regression-in-python/"
   ]
  },
  {
   "cell_type": "code",
   "execution_count": 1,
   "metadata": {
    "collapsed": true
   },
   "outputs": [],
   "source": [
    "import numpy as np\n",
    "import matplotlib.pyplot as plt\n",
    "import matplotlib.colors as colors\n",
    "\n",
    "import csv\n",
    "from scipy.interpolate import interp1d\n",
    "from scipy.optimize import curve_fit\n",
    "\n",
    "import pandas \n",
    "from sklearn.linear_model import LinearRegression\n",
    "from sklearn.preprocessing import PolynomialFeatures\n",
    "#import statsmodels.api as sm\n",
    "\n",
    "%matplotlib inline"
   ]
  },
  {
   "cell_type": "code",
   "execution_count": 70,
   "metadata": {},
   "outputs": [
    {
     "name": "stdout",
     "output_type": "stream",
     "text": [
      "    Prosperity Index Health Score  \\\n",
      "0                            81.8   \n",
      "1                            75.0   \n",
      "2                            73.1   \n",
      "3                            80.9   \n",
      "4                            66.2   \n",
      "5                            82.3   \n",
      "6                            71.3   \n",
      "7                            81.8   \n",
      "8                            86.3   \n",
      "9                            84.2   \n",
      "10                           57.8   \n",
      "11                           80.5   \n",
      "12                           74.9   \n",
      "\n",
      "    Population using at least basic drinking-water services (%)  \\\n",
      "0                                                 100             \n",
      "1                                                  98             \n",
      "2                                                 100             \n",
      "3                                                  93             \n",
      "4                                                  99             \n",
      "5                                                 100             \n",
      "6                                                  95             \n",
      "7                                                  99             \n",
      "8                                                  99             \n",
      "9                                                 100             \n",
      "10                                                 93             \n",
      "11                                                100             \n",
      "12                                                 99             \n",
      "\n",
      "    Human development index (HDI)  Population. total (millions)  \\\n",
      "0                           0.938                          24.9   \n",
      "1                           0.761                         209.5   \n",
      "2                           0.847                          18.7   \n",
      "3                           0.758                        1427.6   \n",
      "4                           0.700                          98.4   \n",
      "5                           0.939                          83.1   \n",
      "6                           0.797                          81.8   \n",
      "7                           0.883                          60.6   \n",
      "8                           0.915                         127.2   \n",
      "9                           0.906                          51.2   \n",
      "10                          0.705                          57.8   \n",
      "11                          0.920                          67.1   \n",
      "12                          0.920                         327.1   \n",
      "\n",
      "    Population. under age 5 (%)  Population. ages 65 and older (%)  \\\n",
      "0                      0.064257                           0.156627   \n",
      "1                      0.070167                           0.089260   \n",
      "2                      0.064171                           0.117647   \n",
      "3                      0.060171                           0.109204   \n",
      "4                      0.132114                           0.051829   \n",
      "5                      0.046931                           0.214200   \n",
      "6                      0.090465                           0.062347   \n",
      "7                      0.039604                           0.227723   \n",
      "8                      0.040094                           0.275943   \n",
      "9                      0.041016                           0.144531   \n",
      "10                     0.100346                           0.053633   \n",
      "11                     0.059613                           0.184799   \n",
      "12                     0.059615                           0.158056   \n",
      "\n",
      "    yearly anual Temperature  \n",
      "0                      21.65  \n",
      "1                      24.95  \n",
      "2                       8.45  \n",
      "3                       6.95  \n",
      "4                      22.10  \n",
      "5                       8.50  \n",
      "6                      17.25  \n",
      "7                      13.45  \n",
      "8                      11.15  \n",
      "9                      11.50  \n",
      "10                     17.75  \n",
      "11                      8.45  \n",
      "12                      8.55  \n"
     ]
    }
   ],
   "source": [
    "#Import data - independent variables\n",
    "df_hd = pandas.read_csv(\"OneStepAhead/DataProcessing/PipelineIntermediates/finalCleanDataCopyPasteBasic.csv\")\n",
    "\n",
    "\n",
    "x = df_hd.iloc[ : , [1,4,6,8,9,11,14]]\n",
    "y = df_hd[\"GrowthRate1\"]\n",
    "\n",
    "print(x)"
   ]
  },
  {
   "cell_type": "code",
   "execution_count": 59,
   "metadata": {
    "collapsed": true
   },
   "outputs": [],
   "source": [
    "model = LinearRegression().fit(x, y)"
   ]
  },
  {
   "cell_type": "code",
   "execution_count": 60,
   "metadata": {},
   "outputs": [
    {
     "name": "stdout",
     "output_type": "stream",
     "text": [
      "0.8777857786441605\n"
     ]
    }
   ],
   "source": [
    "r_sq = model.score(x, y)\n",
    "print(r_sq) #R_sq = 1 implies overfitting"
   ]
  },
  {
   "cell_type": "code",
   "execution_count": 61,
   "metadata": {},
   "outputs": [
    {
     "name": "stdout",
     "output_type": "stream",
     "text": [
      "[-2.36494606e-03  2.15270501e-03  2.80678716e-01  3.49335911e-05\n",
      " -1.39790582e+00 -5.83476662e-01  1.63075352e-03]\n"
     ]
    }
   ],
   "source": [
    "coeffs = model.coef_\n",
    "print(coeffs)#want this to be low"
   ]
  },
  {
   "cell_type": "code",
   "execution_count": 69,
   "metadata": {},
   "outputs": [
    {
     "data": {
      "image/png": "[encoded data removed]",
      "text/plain": [
       "<matplotlib.figure.Figure at 0x12e39de10>"
      ]
     },
     "metadata": {},
     "output_type": "display_data"
    }
   ],
   "source": [
    "#print(bfvals)\n",
    "ypred = model.predict(x)\n",
    "#print((ypred-y)/ypred)\n",
    "plt.plot(y,ypred,\"o\")\n",
    "plt.xlabel(\"True Growth rate\")\n",
    "plt.ylabel(\"Predicted Growth rate\")\n",
    "\n",
    "xlin = np.linspace(0.,0.18,10)\n",
    "plt.plot(xlin,xlin,\"k--\")\n",
    "plt.xlim([0.,0.18])\n",
    "plt.ylim([0.,0.18])\n",
    "#plt.savefig(\"RegressionPrediction.png\")"
   ]
  },
  {
   "cell_type": "code",
   "execution_count": null,
   "metadata": {
    "collapsed": true
   },
   "outputs": [],
   "source": []
  },
  {
   "cell_type": "code",
   "execution_count": null,
   "metadata": {
    "collapsed": true
   },
   "outputs": [],
   "source": []
  }
 ],
 "metadata": {
  "kernelspec": {
   "display_name": "Python 3",
   "language": "python",
   "name": "python3"
  },
  "language_info": {
   "codemirror_mode": {
    "name": "ipython",
    "version": 3
   },
   "file_extension": ".py",
   "mimetype": "text/x-python",
   "name": "python",
   "nbconvert_exporter": "python",
   "pygments_lexer": "ipython3",
   "version": "3.6.3"
  },
  "pycharm": {
   "stem_cell": {
    "cell_type": "raw",
    "metadata": {
     "collapsed": false
    },
    "source": []
   }
  }
 },
 "nbformat": 4,
 "nbformat_minor": 2
}
